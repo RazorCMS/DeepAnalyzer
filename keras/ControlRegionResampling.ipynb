{
 "cells": [
  {
   "cell_type": "code",
   "execution_count": 3,
   "metadata": {},
   "outputs": [
    {
     "name": "stdout",
     "output_type": "stream",
     "text": [
      "The autoreload extension is already loaded. To reload it, use:\n",
      "  %reload_ext autoreload\n"
     ]
    }
   ],
   "source": [
    "import h5py\n",
    "%load_ext autoreload\n",
    "%autoreload 2\n",
    "%matplotlib inline\n",
    "import pandas as pd\n",
    "import numpy as np\n",
    "import matplotlib.pyplot as plt\n",
    "from sklearn import preprocessing\n",
    "from sklearn.externals import joblib\n",
    "import pickle\n",
    "import argparse\n",
    "import os\n",
    "\n",
    "DATA_DIR = '/bigdata/shared/analysis/H5CR/OR_CUT/MultiJet/'\n",
    "BACKGROUND = ['DYJets','Other','QCD','SingleTop','TTJets','WJets','ZInv']"
   ]
  },
  {
   "cell_type": "markdown",
   "metadata": {},
   "source": [
    "Divide 1L control region dataset into ttbar enhanced and W+jets enhanced region where:\n",
    "1. ttbar enhanced: at least 1 b-tag\n",
    "2. wjet enhanced: 0 b-tag"
   ]
  },
  {
   "cell_type": "code",
   "execution_count": 4,
   "metadata": {},
   "outputs": [
    {
     "name": "stdout",
     "output_type": "stream",
     "text": [
      "Before cleaning: (520351, 18)\n",
      "After cleaning: (520347, 18)\n",
      "Before cleaning: (35014076, 18)\n",
      "After cleaning: (35013935, 18)\n",
      "Getting a fraction of 0.014861130766 from Training Background\n",
      "- Initial shape: \n",
      "(21008361, 18)\n",
      "- Sampling 312208 entries\n",
      "- Output shape: \n",
      "(312208, 18)\n",
      "Getting a fraction of 0.014861130766 from Validation Background\n",
      "- Initial shape: \n",
      "(7002787, 18)\n",
      "- Sampling 104069 entries\n",
      "- Output shape: \n",
      "(104069, 18)\n",
      "(312208, 18)\n",
      "(312208, 18)\n",
      "Finished stacking\n"
     ]
    }
   ],
   "source": [
    "from training import to_regular_array\n",
    "\n",
    "def split_dataset(dataset):\n",
    "    np.random.shuffle(dataset)\n",
    "    train_index = int(0.6 * dataset.shape[0])\n",
    "    val_index = int(train_index*4/3)\n",
    "    training_set = dataset[:train_index]\n",
    "    val_set = dataset[train_index:val_index]\n",
    "    test_set = dataset[val_index:]\n",
    "    return training_set, val_set, test_set   \n",
    "\n",
    "def remove_outlier(arr):\n",
    "    # Will remove outlier according to each feature.\n",
    "    def clip(arr, lower, sub_lower, upper, sub_upper):\n",
    "        arr[arr < lower] = float(sub_lower)\n",
    "        arr[arr > upper] = float(sub_upper)\n",
    "        return arr\n",
    "\n",
    "    arr['alphaT'] = clip(arr['alphaT'], 0, 0, 100, 100)\n",
    "    arr['dPhiMinJetMET'] = clip(arr['dPhiMinJetMET'], -np.pi, 0, np.pi, 0)\n",
    "    arr['dPhiRazor'] = clip(arr['dPhiRazor'], -np.pi, 0, np.pi, 0)\n",
    "    arr['HT'] = clip(arr['HT'], 0, 0, 10000, 10000)\n",
    "    arr['jet1MT'] = clip(arr['jet1MT'], 0, 0, 10000, 10000)\n",
    "    arr['leadingJetCISV'] = clip(arr['leadingJetCISV'], 0, 0, 1, 1)\n",
    "    arr['leadingJetPt'] = clip(arr['leadingJetPt'], 0, 0, 5000, 5000)\n",
    "    arr['MET'] = clip(arr['MET'], 0, 0, 5000, 5000)\n",
    "    arr['MHT'] = clip(arr['MHT'], 0, 0, 5000, 5000)\n",
    "    arr['MR'] = clip(arr['MR'], 0, 0, 10000, 10000)\n",
    "    arr['MT2'] = clip(arr['MT2'], 0, 0, 5000, 5000)\n",
    "    arr['nSelectedJets'] = clip(arr['nSelectedJets'], 0, 0, 20, 20)\n",
    "    arr['Rsq'] = clip(arr['Rsq'], 0, 0, 5, 5)\n",
    "    arr['subleadingJetPt'] = clip(arr['subleadingJetPt'], 0, 0, 4000, 4000)\n",
    "\n",
    "    return arr\n",
    "\n",
    "for i,bkg in enumerate(BACKGROUND):\n",
    "    _file = h5py.File(DATA_DIR+'/'+bkg+'.h5','r')\n",
    "    _background = to_regular_array(remove_outlier(_file['Data'][:]))\n",
    "    if i == 0: Background = np.copy(_background)\n",
    "    else: Background = np.vstack((Background, _background))\n",
    "for i,sn in enumerate(SIGNAL):\n",
    "    _file = h5py.File(DATA_DIR+'/'+sn+'.h5','r')\n",
    "    _signal = to_regular_array(remove_outlier(_file['Data'][:]))\n",
    "    if i == 0: Signal = np.copy(_signal)\n",
    "    else: Signal = np.vstack((Signal, _signal))    \n",
    "        \n",
    "\n",
    "from training import clean_dataset\n",
    "Signal = clean_dataset(Signal)\n",
    "Background = clean_dataset(Background)\n",
    "train_bkg, val_bkg, test_bkg = split_dataset(Background)\n",
    "train_sn, val_sn, test_sn = split_dataset(Signal)\n",
    "\n",
    "train_weight = float(train_sn.shape[0])/float(train_bkg.shape[0])\n",
    "val_weight = float(val_sn.shape[0])/float(val_bkg.shape[0])\n",
    "\n",
    "def random_frac(arr, fraction, label = ''):\n",
    "    print(\"Getting a fraction of {} from {}\".format(fraction,label))\n",
    "    print(\"- Initial shape: \")\n",
    "    print arr.shape\n",
    "    sample_size = int(fraction*arr.shape[0])\n",
    "    print(\"- Sampling {} entries\".format(sample_size))\n",
    "    idx = np.random.randint(arr.shape[0],size=sample_size)\n",
    "    out = arr[idx,:]\n",
    "    print(\"- Output shape: \")\n",
    "    print out.shape\n",
    "    return out\n",
    "\n",
    "\n",
    "train_bkg = random_frac(train_bkg, train_weight, \"Training Background\")\n",
    "val_bkg = random_frac(val_bkg, train_weight, \"Validation Background\")\n",
    "\n",
    "with h5py.File(DATA_DIR+\"/Parameterized_Dataset.h5\",'w') as outfile:\n",
    "    print train_sn.shape\n",
    "    print train_bkg.shape\n",
    "    train_dataset = np.vstack((train_sn, train_bkg))\n",
    "    val_dataset = np.vstack((val_sn, val_bkg))\n",
    "    #test_dataset = np.vstack((test_sn, test_bkg))\n",
    "    test_dataset = np.vstack((Signal,test_bkg)) # avoid the sparsity problem\n",
    "    print \"Finished stacking\"\n",
    "    outfile.create_dataset(\"Training\", data=train_dataset)\n",
    "    outfile.create_dataset(\"Validation\", data=val_dataset)\n",
    "    outfile.create_dataset(\"Test\",data=test_dataset)"
   ]
  },
  {
   "cell_type": "markdown",
   "metadata": {},
   "source": [
    "For training and validation, need to have equal number of signal and background. For test set, keep the original to avoid repeated predictions."
   ]
  },
  {
   "cell_type": "code",
   "execution_count": 77,
   "metadata": {},
   "outputs": [
    {
     "name": "stdout",
     "output_type": "stream",
     "text": [
      "Getting a fraction of 1.0 from train bkg\n",
      "- Initial shape: \n",
      "(8859, 16)\n",
      "- Sampling 8859 entries\n",
      "- Output shape: \n",
      "(8859, 16)\n",
      "Getting a fraction of 1.0 from val bkg\n",
      "- Initial shape: \n",
      "(10325265, 16)\n",
      "- Sampling 10325265 entries\n",
      "- Output shape: \n",
      "(10325265, 16)\n",
      "(8859, 16)\n",
      "(8859, 16)\n"
     ]
    }
   ],
   "source": [
    "def multiply_data(data, multiplicity):\n",
    "    print (\"Dataset size before multiplied by {}: {}\".format(multiplicity,data.shape[0]))\n",
    "    for i in range(multiplicity):\n",
    "        if i==0: sum_data = np.copy(data)\n",
    "        else: sum_data = np.vstack((sum_data, data))\n",
    "    print (\"Dataset size after multiplicity: {}\".format(sum_data.shape[0]))\n",
    "    return sum_data\n"
   ]
  },
  {
   "cell_type": "code",
   "execution_count": 18,
   "metadata": {},
   "outputs": [
    {
     "name": "stdout",
     "output_type": "stream",
     "text": [
      "38055554.1844\n"
     ]
    },
    {
     "data": {
      "image/png": "[encoded data removed]",
      "text/plain": [
       "<matplotlib.figure.Figure at 0x7fb9b7c66850>"
      ]
     },
     "metadata": {},
     "output_type": "display_data"
    }
   ],
   "source": [
    "data = Background[:,2:]\n",
    "weight = Background[:,1]\n",
    "label = Background[:,0]\n",
    "data_bkg = data[label < 0.5]\n",
    "weight_bkg = weight[label < 0.5]\n",
    "n, _, _ = plt.hist(data_bkg[:,1], weights=weight_bkg, bins=100)\n",
    "print sum(n)*35900"
   ]
  },
  {
   "cell_type": "code",
   "execution_count": 20,
   "metadata": {},
   "outputs": [
    {
     "name": "stdout",
     "output_type": "stream",
     "text": [
      "38055577.4056\n"
     ]
    },
    {
     "data": {
      "image/png": "[encoded data removed]",
      "text/plain": [
       "<matplotlib.figure.Figure at 0x7fb9b7fac610>"
      ]
     },
     "metadata": {},
     "output_type": "display_data"
    }
   ],
   "source": [
    "DATA_DIR = '/bigdata/shared/analysis/'\n",
    "for i,bkg in enumerate(BACKGROUND):\n",
    "    _file = h5py.File(DATA_DIR+'/'+bkg+'.h5','r')\n",
    "    _background = to_regular_array(remove_outlier(_file['Data'][:]))\n",
    "    if i == 0: Background1 = np.copy(_background)\n",
    "    else: Background1 = np.vstack((Background1, _background))\n",
    "data = Background1[:,2:]\n",
    "weight = Background1[:,1]\n",
    "label = Background1[:,0]\n",
    "data_bkg = data[label < 0.5]\n",
    "weight_bkg = weight[label < 0.5]\n",
    "n, _, _ = plt.hist(data_bkg[:,1], weights=weight_bkg, bins=100)\n",
    "print sum(n)*35900"
   ]
  },
  {
   "cell_type": "code",
   "execution_count": 32,
   "metadata": {
    "collapsed": true
   },
   "outputs": [],
   "source": [
    "from training import to_regular_array\n",
    "def remove_outlier(arr):\n",
    "    # Will remove outlier according to each feature.\n",
    "    def clip(arr, lower, sub_lower, upper, sub_upper):\n",
    "        arr[arr < lower] = float(sub_lower)\n",
    "        arr[arr > upper] = float(sub_upper)\n",
    "        return arr\n",
    "\n",
    "    arr['alphaT'] = clip(arr['alphaT'], 0, 0, 100, 100)\n",
    "    arr['dPhiMinJetMET'] = clip(arr['dPhiMinJetMET'], -np.pi, 0, np.pi, 0)\n",
    "    arr['dPhiRazor'] = clip(arr['dPhiRazor'], -np.pi, 0, np.pi, 0)\n",
    "    arr['HT'] = clip(arr['HT'], 0, 0, 10000, 10000)\n",
    "    arr['jet1MT'] = clip(arr['jet1MT'], 0, 0, 10000, 10000)\n",
    "    arr['leadingJetCISV'] = clip(arr['leadingJetCISV'], 0, 0, 1, 1)\n",
    "    arr['leadingJetPt'] = clip(arr['leadingJetPt'], 0, 0, 5000, 5000)\n",
    "    arr['MET'] = clip(arr['MET'], 0, 0, 5000, 5000)\n",
    "    arr['MHT'] = clip(arr['MHT'], 0, 0, 5000, 5000)\n",
    "    arr['MR'] = clip(arr['MR'], 0, 0, 10000, 10000)\n",
    "    arr['MT2'] = clip(arr['MT2'], 0, 0, 5000, 5000)\n",
    "    arr['nSelectedJets'] = clip(arr['nSelectedJets'], 0, 0, 20, 20)\n",
    "    arr['Rsq'] = clip(arr['Rsq'], 0, 0, 5, 5)\n",
    "    arr['subleadingJetPt'] = clip(arr['subleadingJetPt'], 0, 0, 4000, 4000)\n",
    "\n",
    "    return arr\n",
    "_qcd = h5py.File(DATA_DIR+'/QCD.h5','r')\n",
    "QCD = to_regular_array(remove_outlier(_qcd['Data'][:]))\n",
    "#print QCD[342]\n",
    "qcd = np.asarray(QCD[:,1])"
   ]
  },
  {
   "cell_type": "code",
   "execution_count": 35,
   "metadata": {},
   "outputs": [
    {
     "data": {
      "text/plain": [
       "(array([  6.40940000e+04,   4.71150000e+04,   3.68630000e+04,\n",
       "          9.21640000e+04,   4.34836000e+05,   1.47778000e+05,\n",
       "          1.16670000e+04,   1.48300000e+04,   1.73060000e+04,\n",
       "          6.07100000e+04,   3.03481000e+05,   5.61720000e+04,\n",
       "          5.95160000e+04,   7.56370000e+04,   1.30600000e+04,\n",
       "          7.24600000e+03,   4.17600000e+03,   2.65800000e+03,\n",
       "          4.33000000e+02,   1.34000000e+02,   1.24000000e+02,\n",
       "          7.46000000e+02,   1.46000000e+03,   5.41000000e+03,\n",
       "          1.45520000e+04,   7.70000000e+02,   3.25000000e+02,\n",
       "          1.70000000e+02,   3.41000000e+02,   2.21000000e+02,\n",
       "          1.06700000e+03,   2.59600000e+03,   1.22200000e+03,\n",
       "          3.67500000e+03,   7.29000000e+02,   5.78000000e+02,\n",
       "          1.05500000e+03,   5.63300000e+03,   2.51700000e+03,\n",
       "          1.41100000e+03,   6.38000000e+02,   3.84000000e+02,\n",
       "          2.31500000e+03,   5.17000000e+02,   3.16400000e+03,\n",
       "          1.53500000e+03,   1.16300000e+03,   2.75600000e+03,\n",
       "          3.59000000e+02,   2.26000000e+02,   8.09000000e+02,\n",
       "          3.08000000e+02,   4.86000000e+02,   4.96000000e+02,\n",
       "          1.76400000e+03,   6.97600000e+03,   3.18800000e+03,\n",
       "          1.53900000e+03,   3.62900000e+03,   6.76000000e+02,\n",
       "          5.62000000e+02,   8.02000000e+02,   3.02900000e+03,\n",
       "          1.18500000e+03,   6.63000000e+02,   5.43000000e+02,\n",
       "          3.65000000e+02,   5.38000000e+02,   1.64500000e+03,\n",
       "          3.52300000e+03,   1.67800000e+03,   3.51000000e+03,\n",
       "          4.22500000e+03,   1.70400000e+03,   3.02800000e+03,\n",
       "          6.68600000e+03,   4.20600000e+03,   2.72900000e+03,\n",
       "          3.63000000e+03,   7.90200000e+03,   4.72300000e+03,\n",
       "          1.35430000e+04,   2.39250000e+04,   4.82640000e+04,\n",
       "          3.61350000e+04,   1.66540000e+04,   1.21760000e+04,\n",
       "          9.99600000e+03,   1.18610000e+04,   3.57500000e+03,\n",
       "          4.30500000e+03,   4.76700000e+03,   9.13100000e+03,\n",
       "          3.02800000e+03,   2.01500000e+03,   3.63500000e+03,\n",
       "          6.62400000e+03,   4.71500000e+03,   1.98300000e+03,\n",
       "          1.90300000e+03]),\n",
       " array([  1.00000000e-07,   1.09900000e-06,   2.09800000e-06,\n",
       "          3.09700000e-06,   4.09600000e-06,   5.09500000e-06,\n",
       "          6.09400000e-06,   7.09300000e-06,   8.09200000e-06,\n",
       "          9.09100000e-06,   1.00900000e-05,   1.10890000e-05,\n",
       "          1.20880000e-05,   1.30870000e-05,   1.40860000e-05,\n",
       "          1.50850000e-05,   1.60840000e-05,   1.70830000e-05,\n",
       "          1.80820000e-05,   1.90810000e-05,   2.00800000e-05,\n",
       "          2.10790000e-05,   2.20780000e-05,   2.30770000e-05,\n",
       "          2.40760000e-05,   2.50750000e-05,   2.60740000e-05,\n",
       "          2.70730000e-05,   2.80720000e-05,   2.90710000e-05,\n",
       "          3.00700000e-05,   3.10690000e-05,   3.20680000e-05,\n",
       "          3.30670000e-05,   3.40660000e-05,   3.50650000e-05,\n",
       "          3.60640000e-05,   3.70630000e-05,   3.80620000e-05,\n",
       "          3.90610000e-05,   4.00600000e-05,   4.10590000e-05,\n",
       "          4.20580000e-05,   4.30570000e-05,   4.40560000e-05,\n",
       "          4.50550000e-05,   4.60540000e-05,   4.70530000e-05,\n",
       "          4.80520000e-05,   4.90510000e-05,   5.00500000e-05,\n",
       "          5.10490000e-05,   5.20480000e-05,   5.30470000e-05,\n",
       "          5.40460000e-05,   5.50450000e-05,   5.60440000e-05,\n",
       "          5.70430000e-05,   5.80420000e-05,   5.90410000e-05,\n",
       "          6.00400000e-05,   6.10390000e-05,   6.20380000e-05,\n",
       "          6.30370000e-05,   6.40360000e-05,   6.50350000e-05,\n",
       "          6.60340000e-05,   6.70330000e-05,   6.80320000e-05,\n",
       "          6.90310000e-05,   7.00300000e-05,   7.10290000e-05,\n",
       "          7.20280000e-05,   7.30270000e-05,   7.40260000e-05,\n",
       "          7.50250000e-05,   7.60240000e-05,   7.70230000e-05,\n",
       "          7.80220000e-05,   7.90210000e-05,   8.00200000e-05,\n",
       "          8.10190000e-05,   8.20180000e-05,   8.30170000e-05,\n",
       "          8.40160000e-05,   8.50150000e-05,   8.60140000e-05,\n",
       "          8.70130000e-05,   8.80120000e-05,   8.90110000e-05,\n",
       "          9.00100000e-05,   9.10090000e-05,   9.20080000e-05,\n",
       "          9.30070000e-05,   9.40060000e-05,   9.50050000e-05,\n",
       "          9.60040000e-05,   9.70030000e-05,   9.80020000e-05,\n",
       "          9.90010000e-05,   1.00000000e-04]),\n",
       " <a list of 100 Patch objects>)"
      ]
     },
     "execution_count": 35,
     "metadata": {},
     "output_type": "execute_result"
    },
    {
     "data": {
      "image/png": "[encoded data removed]",
      "text/plain": [
       "<matplotlib.figure.Figure at 0x7fcac0b482d0>"
      ]
     },
     "metadata": {},
     "output_type": "display_data"
    }
   ],
   "source": [
    "plt.figure(figsize=(6,6))\n",
    "plt.hist(qcd,bins=100,range=[1e-7, 1e-4])"
   ]
  },
  {
   "cell_type": "code",
   "execution_count": null,
   "metadata": {
    "collapsed": true
   },
   "outputs": [],
   "source": []
  }
 ],
 "metadata": {
  "kernelspec": {
   "display_name": "Python 2",
   "language": "python",
   "name": "python2"
  },
  "language_info": {
   "codemirror_mode": {
    "name": "ipython",
    "version": 2
   },
   "file_extension": ".py",
   "mimetype": "text/x-python",
   "name": "python",
   "nbconvert_exporter": "python",
   "pygments_lexer": "ipython2",
   "version": "2.7.12"
  }
 },
 "nbformat": 4,
 "nbformat_minor": 2
}
